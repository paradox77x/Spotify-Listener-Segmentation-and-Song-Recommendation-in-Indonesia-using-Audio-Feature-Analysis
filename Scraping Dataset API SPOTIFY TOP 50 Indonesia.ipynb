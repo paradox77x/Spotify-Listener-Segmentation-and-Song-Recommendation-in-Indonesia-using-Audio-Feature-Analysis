{
 "cells": [
  {
   "cell_type": "code",
   "execution_count": 1,
   "id": "1e2b8308-24e4-4d9a-8db8-380c5600c872",
   "metadata": {},
   "outputs": [],
   "source": [
    "import spotipy\n",
    "from spotipy.oauth2 import SpotifyClientCredentials\n",
    "import pandas as pd\n",
    "from datetime import date\n",
    "import time"
   ]
  },
  {
   "cell_type": "code",
   "execution_count": 3,
   "id": "a073d7c2-119e-4d61-9f7a-b7017ecff634",
   "metadata": {},
   "outputs": [],
   "source": [
    "#Menambahkan API KEY Spotify Develover\n",
    "auth_manager = SpotifyClientCredentials(\n",
    "    \"959f32c10aa64c92b1028488bf705a9d\", \"f85f974c0c2e4c7c81b283f55139bd8d\"\n",
    ")\n",
    "sp = spotipy.Spotify(auth_manager=auth_manager)\n"
   ]
  },
  {
   "cell_type": "code",
   "execution_count": 5,
   "id": "0e378670-1137-48d4-ad1f-077255b10c7a",
   "metadata": {},
   "outputs": [
    {
     "name": "stdout",
     "output_type": "stream",
     "text": [
      "Scraping Spotify API\n"
     ]
    }
   ],
   "source": [
    "print(\"Scraping Spotify API\")\n",
    "# Memasukan ID Dari Playlist TOP 50 Lagu Spotify dari Indoneisa atau dari link ini https://open.spotify.com/playlist/37i9dQZEVXbObFQZ3JLcXt\n",
    "playlist_id = \"37i9dQZEVXbObFQZ3JLcXt\"\n",
    "country_code = \"ID\"\n",
    "snapshot_date = date.today().strftime(\"%d/%m/%Y\")\n",
    "daily_rank = 1\n",
    "\n",
    "tracks_data = []\n",
    "\n",
    "playlist_data = sp.playlist(playlist_id)\n",
    "list_tracks = playlist_data[\"tracks\"][\"items\"]"
   ]
  },
  {
   "cell_type": "code",
   "execution_count": 6,
   "id": "64422353-f6a5-4efe-999b-86fa210d763b",
   "metadata": {},
   "outputs": [],
   "source": [
    "for track in list_tracks:\n",
    "    time.sleep(1)  # Jeda untuk menghindari limit request ke Spotify API\n",
    "    audio_features = sp.audio_features(track[\"track\"][\"id\"])\n",
    "    if not audio_features or not audio_features[0]:\n",
    "        continue\n",
    "    track_data = {\n",
    "        \"spotify_id\": track[\"track\"][\"id\"],\n",
    "        \"name\": track[\"track\"][\"name\"],\n",
    "        \"artists\": track[\"track\"][\"artists\"][0][\"name\"],\n",
    "        \"daily_rank\": daily_rank,\n",
    "        \"country\": country_code,\n",
    "        \"snapshot_date\": snapshot_date,\n",
    "        \"popularity\": track[\"track\"][\"popularity\"],\n",
    "        \"is_explicit\": track[\"track\"][\"explicit\"],\n",
    "        \"duration\": audio_features[0][\"duration_ms\"],\n",
    "        \"album_name\": track[\"track\"][\"album\"][\"name\"],\n",
    "        \"album_release_date\": track[\"track\"][\"album\"][\"release_date\"],\n",
    "        \"danceability\": audio_features[0][\"danceability\"],\n",
    "        \"energy\": audio_features[0][\"energy\"],\n",
    "        \"key\": audio_features[0][\"key\"],\n",
    "        \"loudness\": audio_features[0][\"loudness\"],\n",
    "        \"mode\": audio_features[0][\"mode\"],\n",
    "        \"speechiness\": audio_features[0][\"speechiness\"],\n",
    "        \"acousticness\": audio_features[0][\"acousticness\"],\n",
    "        \"instrumentalness\": audio_features[0][\"instrumentalness\"],\n",
    "        \"liveness\": audio_features[0][\"liveness\"],\n",
    "        \"valence\": audio_features[0][\"valence\"],\n",
    "        \"tempo\": audio_features[0][\"tempo\"],\n",
    "        \"time_signature\": audio_features[0][\"time_signature\"],\n",
    "    }\n",
    "    tracks_data.append(track_data)\n",
    "    daily_rank += 1"
   ]
  },
  {
   "cell_type": "code",
   "execution_count": 8,
   "id": "369854a7-9a75-4cab-a6d3-8019dfdbdba4",
   "metadata": {},
   "outputs": [],
   "source": [
    "# Menyimpan data yang sudah di Scraping ke file csv\n",
    "df = pd.DataFrame(tracks_data)\n",
    "df.to_csv(f\"dataset_top_50_music_daily_spotify_id_scraping_2024_NEW06.csv\", index=False)\n",
    "# Selesai\n",
    "print(\"Data Berhasil Disimpan\")"
   ]
  }
 ],
 "metadata": {
  "kernelspec": {
   "display_name": "Python 3 (ipykernel)",
   "language": "python",
   "name": "python3"
  },
  "language_info": {
   "codemirror_mode": {
    "name": "ipython",
    "version": 3
   },
   "file_extension": ".py",
   "mimetype": "text/x-python",
   "name": "python",
   "nbconvert_exporter": "python",
   "pygments_lexer": "ipython3",
   "version": "3.11.7"
  }
 },
 "nbformat": 4,
 "nbformat_minor": 5
}
